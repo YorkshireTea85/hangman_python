{
  "nbformat": 4,
  "nbformat_minor": 0,
  "metadata": {
    "colab": {
      "name": "Python_01_Numbers.ipynb",
      "provenance": [],
      "collapsed_sections": [],
      "include_colab_link": true
    },
    "kernelspec": {
      "name": "python3",
      "display_name": "Python 3"
    },
    "language_info": {
      "name": "python"
    }
  },
  "cells": [
    {
      "cell_type": "markdown",
      "metadata": {
        "id": "view-in-github",
        "colab_type": "text"
      },
      "source": [
        "<a href=\"https://colab.research.google.com/github/YorkshireTea85/hangman_python/blob/master/Python_01_Numbers.ipynb\" target=\"_parent\"><img src=\"https://colab.research.google.com/assets/colab-badge.svg\" alt=\"Open In Colab\"/></a>"
      ]
    },
    {
      "cell_type": "markdown",
      "metadata": {
        "id": "gpnJb0pAJc5k"
      },
      "source": [
        "\n",
        "<img src=\"https://drive.google.com/uc?id=1VLwqWq8l14EZ5hskFUumhyR-PjF3EF_1\" alt=\"Wyton Station Logo\" width=\"100%\">\n"
      ]
    },
    {
      "cell_type": "markdown",
      "metadata": {
        "id": "eJ0iFq6FyyRH"
      },
      "source": [
        "#<font color=\"green\">**Python Tutorial 01 - Numbers**</font>"
      ]
    },
    {
      "cell_type": "markdown",
      "metadata": {
        "id": "YaJe_PuBg46u"
      },
      "source": [
        "#**Introduction to Numbers and More in Python!**\n"
      ]
    },
    {
      "cell_type": "markdown",
      "metadata": {
        "id": "W1KVO2n4mmar"
      },
      "source": [
        "In this lecture, we will learn about numbers in Python and how to use them.\n",
        "\n",
        "We'll learn about the following topics:\n",
        "\n",
        "1.   Types of Numbers in Python.\n",
        "2.   Basic Arithmetic.\n",
        "3.   Differences between classic division and floor division.\n",
        "4.   Object Assignment in Python.\n",
        "\n",
        "##**Types of numbers**\n",
        "Python has various \"types\" of numbers (numeric literals). We'll mainly focus on integers and floating point numbers.\n",
        "\n",
        "Integers are just whole numbers, positive or negative. For example: 2 and -2 are examples of integers.\n",
        "\n",
        "Floating point numbers in Python are notable because they have a decimal point in them, or use an exponential (e) to define the number. For example 2.0 and -2.1 are examples of floating point numbers. 4E2 (4 times 10 to the power of 2) is also an example of a floating point number in Python.\n",
        "\n",
        "Throughout this course we will be mainly working with integers or simple float number types.\n",
        "\n",
        "Now let's start with some basic arithmetic."
      ]
    },
    {
      "cell_type": "markdown",
      "metadata": {
        "id": "txYyaNw5lfGy"
      },
      "source": [
        "# **Basic Arithmetic**"
      ]
    },
    {
      "cell_type": "markdown",
      "metadata": {
        "id": "CF_tZcpploTh"
      },
      "source": [
        "Python can manipulate numbers in very much the same way in which you would use a calculator. This is done through the use of \"arithmetic operators\". An operator is a pythonic term for the symbol used to carry out a particular operation (hence the name). Here is a list of operators we can use:\n",
        "\n",
        "Operator  | Function \n",
        "----------|-------------\n",
        "+         | Addition\n",
        "-         | Subtraction \n",
        "*         | Multiplication\n",
        "/ | Division\n",
        "%| Modulus\n",
        "** | Exponentiation\n",
        "//| Floor Division"
      ]
    },
    {
      "cell_type": "code",
      "metadata": {
        "id": "cNhY0wv1e2S_"
      },
      "source": [
        "# Addition (try replacing the values below so the output returns 42)\n",
        "2 + 1"
      ],
      "execution_count": null,
      "outputs": []
    },
    {
      "cell_type": "code",
      "metadata": {
        "id": "1ijrHCotlw1p"
      },
      "source": [
        "# Subtraction (try replacing the values below so the output totals 14)\n",
        "100 - 27"
      ],
      "execution_count": null,
      "outputs": []
    },
    {
      "cell_type": "code",
      "metadata": {
        "id": "5eYFYBg1mBSS"
      },
      "source": [
        "# Multiplication (try replacing the values below so the output totals 20)\n",
        "2*2"
      ],
      "execution_count": null,
      "outputs": []
    },
    {
      "cell_type": "code",
      "metadata": {
        "id": "uAkeqoynoect"
      },
      "source": [
        "# Division (try replacing the values below so the output totals 2.5)\n",
        "3/2\n"
      ],
      "execution_count": null,
      "outputs": []
    },
    {
      "cell_type": "code",
      "metadata": {
        "id": "bj7iMhbioplI"
      },
      "source": [
        "# Floor Division (Whoa! What happened here? See below for an explanation)\n",
        "7//4"
      ],
      "execution_count": null,
      "outputs": []
    },
    {
      "cell_type": "markdown",
      "metadata": {
        "id": "PpU4f_wMpFRq"
      },
      "source": [
        "The reason we get the result above is because we are using \"floor\" division. The // operator (two forward slashes) truncates the decimal without rounding, and returns an integer result.\n",
        "\n",
        "What if we want the remainder after a division?"
      ]
    },
    {
      "cell_type": "code",
      "metadata": {
        "id": "XpOfn4hmpd-a"
      },
      "source": [
        "# Modulo\n",
        "7%4"
      ],
      "execution_count": null,
      "outputs": []
    },
    {
      "cell_type": "markdown",
      "metadata": {
        "id": "_foR--9GpvLJ"
      },
      "source": [
        "4 goes into 7 once, with a remainder of 3. The % operator returns the remainder after division. One usecase of modulo is to check if a number is even or not. If the result of a given number %2 is equal to 0 then we know it is even."
      ]
    },
    {
      "cell_type": "code",
      "metadata": {
        "id": "EqM1HpcnpoAA"
      },
      "source": [
        "# Powers (try replacing the values below so the output is 3 to the power of 3)\n",
        "2**3"
      ],
      "execution_count": null,
      "outputs": []
    },
    {
      "cell_type": "code",
      "metadata": {
        "id": "WwpClivwslA5"
      },
      "source": [
        "# You Can also do roots this way (The example below gives the square root of 4)\n",
        "4**0.5"
      ],
      "execution_count": null,
      "outputs": []
    },
    {
      "cell_type": "code",
      "metadata": {
        "id": "4lVUemwtsuAI"
      },
      "source": [
        "# Order of Operations followed in Python (Brackets, Orders, Division, Multiplication, Addition, Subtraction (BODMAS))\n",
        "2 + 10 * 10 + 3"
      ],
      "execution_count": null,
      "outputs": []
    },
    {
      "cell_type": "code",
      "metadata": {
        "id": "N2tuK1Pjtnnx"
      },
      "source": [
        "# You can use parentheses to specify orders\n",
        "(2+10) * (10+3)"
      ],
      "execution_count": null,
      "outputs": []
    },
    {
      "cell_type": "markdown",
      "metadata": {
        "id": "nzlj_rWjuhPX"
      },
      "source": [
        "# **Variable Assignments**"
      ]
    },
    {
      "cell_type": "markdown",
      "metadata": {
        "id": "jJfF2ajjuon3"
      },
      "source": [
        "Now that we've seen how to use numbers in Python as a calculator let's see how we can assign names and create variables.\n",
        "\n",
        "We use a single equals sign to assign labels to variables. Let's see a few examples of how we can do this."
      ]
    },
    {
      "cell_type": "code",
      "metadata": {
        "id": "VtWApSzEut9M"
      },
      "source": [
        "# Let's create an object called \"a\" and assign it the number 5\n",
        "a = 5"
      ],
      "execution_count": null,
      "outputs": []
    },
    {
      "cell_type": "markdown",
      "metadata": {
        "id": "kqjOv39buxtX"
      },
      "source": [
        "Now if I call a in my Python script, Python will treat it as the number 5."
      ]
    },
    {
      "cell_type": "code",
      "metadata": {
        "id": "NSk2FHQBuwkH"
      },
      "source": [
        "# Adding the objects\n",
        "a+a"
      ],
      "execution_count": null,
      "outputs": []
    },
    {
      "cell_type": "markdown",
      "metadata": {
        "id": "IEmFtaA4u7Ut"
      },
      "source": [
        "What happens on reassignment? Will Python let us write it over?"
      ]
    },
    {
      "cell_type": "code",
      "metadata": {
        "id": "gWFr69APu3xX"
      },
      "source": [
        "# Reassignment\n",
        "a = 10"
      ],
      "execution_count": null,
      "outputs": []
    },
    {
      "cell_type": "code",
      "metadata": {
        "id": "0wLnwRc_vA8f"
      },
      "source": [
        "# Check\n",
        "a"
      ],
      "execution_count": null,
      "outputs": []
    },
    {
      "cell_type": "markdown",
      "metadata": {
        "id": "GgZXWHA8vGev"
      },
      "source": [
        "Yes! Python allows you to write over assigned variable names. We can also use the variables themselves when doing the reassignment. Here is an example of what I mean:"
      ]
    },
    {
      "cell_type": "code",
      "metadata": {
        "id": "GAkCf7pVvCnH"
      },
      "source": [
        "# Check\n",
        "a"
      ],
      "execution_count": null,
      "outputs": []
    },
    {
      "cell_type": "code",
      "metadata": {
        "id": "ig_pFxMmvLQx"
      },
      "source": [
        "# Use A to redefine A\n",
        "a = a + a"
      ],
      "execution_count": null,
      "outputs": []
    },
    {
      "cell_type": "code",
      "metadata": {
        "id": "vWJ1E-K_vNqH"
      },
      "source": [
        "# Check \n",
        "a"
      ],
      "execution_count": null,
      "outputs": []
    },
    {
      "cell_type": "markdown",
      "metadata": {
        "id": "jS_WShuSvaB3"
      },
      "source": [
        "The names you use when creating these labels need to follow a few rules:\n",
        "\n",
        "1. Names can not start with a number.\n",
        "2. There can be no spaces in the name, use _ instead.\n",
        "3. Can't use any of these symbols :'\",<>/?|\\()!@#$%^&*~-+\n",
        "4. It's considered best practice (PEP8) that names are lowercase.\n",
        "5. Avoid using the characters 'l' (lowercase letter el), 'O' (uppercase letter oh), \n",
        "   or 'I' (uppercase letter eye) as single character variable names.\n",
        "6. Avoid using words that have special meaning in Python like \"list\" and \"str\"\n",
        "\n",
        "\n",
        "Using variable names can be a very useful way to keep track of different variables in Python. For example:"
      ]
    },
    {
      "cell_type": "code",
      "metadata": {
        "id": "P27HQecfvPyX"
      },
      "source": [
        "# Use object names to keep better track of what's going on in your code!\n",
        "my_income = 100\n",
        "\n",
        "tax_rate = 0.1\n",
        "\n",
        "my_taxes = my_income*tax_rate"
      ],
      "execution_count": null,
      "outputs": []
    },
    {
      "cell_type": "code",
      "metadata": {
        "colab": {
          "base_uri": "https://localhost:8080/"
        },
        "id": "LRogLp9rvf9H",
        "outputId": "466a87b9-b6dc-40b1-c8d8-8101e7a287ac"
      },
      "source": [
        "# Show my taxes!\n",
        "my_taxes"
      ],
      "execution_count": null,
      "outputs": [
        {
          "output_type": "execute_result",
          "data": {
            "text/plain": [
              "10.0"
            ]
          },
          "metadata": {
            "tags": []
          },
          "execution_count": 44
        }
      ]
    },
    {
      "cell_type": "markdown",
      "metadata": {
        "id": "ckl73dZpvpqP"
      },
      "source": [
        "So what have we learned? We learned some of the basics of numbers in Python. We also learned how to do arithmetic and use Python as a basic calculator. We then wrapped it up with learning about Variable Assignment in Python."
      ]
    },
    {
      "cell_type": "markdown",
      "metadata": {
        "id": "cDj5sd1jvuEX"
      },
      "source": [
        "# **Test What You've Learned**"
      ]
    },
    {
      "cell_type": "markdown",
      "metadata": {
        "id": "OkyYmKvMv2OP"
      },
      "source": [
        "Now let's use what we have learned by applying it to a scenario.\n",
        "\n",
        "Monty earns a gross salary of 25,000 each year.\n",
        "Monty must pay 12% of his gross salary in National Insurance.\n",
        "Monty must pay a basic rate of Income Tax at 20% of his gross salary.\n",
        "\n",
        "You are to create variables for and calculate the following in the cells provided:\n",
        "\n",
        "*   The amount Monty must pay in Income Tax.\n",
        "*   The amount Monty must pay in National Insurance.\n",
        "*   The total combined deductions Monty must pay.\n",
        "*   The total net salary that Monty has remaining.\n",
        "*   The total net monthly income Monty will have.\n",
        "\n",
        "\n"
      ]
    },
    {
      "cell_type": "code",
      "metadata": {
        "id": "8H2QqpHuxvpQ"
      },
      "source": [
        "#The amount Monty must pay in Income Tax.\n"
      ],
      "execution_count": null,
      "outputs": []
    },
    {
      "cell_type": "code",
      "metadata": {
        "id": "vD6aOjSLx0hv"
      },
      "source": [
        "#The amount Monty must pay in National Insurance.\n"
      ],
      "execution_count": null,
      "outputs": []
    },
    {
      "cell_type": "code",
      "metadata": {
        "id": "H7zMdm99x0on"
      },
      "source": [
        "#The total combined deductions Monty must pay.\n"
      ],
      "execution_count": null,
      "outputs": []
    },
    {
      "cell_type": "code",
      "metadata": {
        "id": "JMKmaQIHx0uy"
      },
      "source": [
        "#The total net salary that Monty has remaining.\n"
      ],
      "execution_count": null,
      "outputs": []
    },
    {
      "cell_type": "code",
      "metadata": {
        "id": "hB_gOoUYx00n"
      },
      "source": [
        "#The total net monthly income Monty will have.\n"
      ],
      "execution_count": null,
      "outputs": []
    },
    {
      "cell_type": "markdown",
      "metadata": {
        "id": "Vlpym5M-R-w2"
      },
      "source": [
        "Now build a temperature converter.\n",
        "\n",
        "The formula to go from Celsius to Farenheit is (°C x 9/5) + 32, meaning 0°C = 32°F.\n",
        "Create variables for C and F and return the conversions as below."
      ]
    },
    {
      "cell_type": "code",
      "metadata": {
        "id": "n_mdT16PS8lS"
      },
      "source": [
        "#Write a single line, taking the temperature of 0°C and returning 32°F\n"
      ],
      "execution_count": null,
      "outputs": []
    },
    {
      "cell_type": "code",
      "metadata": {
        "id": "rdgaEmmzTZvu"
      },
      "source": [
        "#Do the same thing but take 32°F and return 0°C\n"
      ],
      "execution_count": null,
      "outputs": []
    },
    {
      "cell_type": "markdown",
      "metadata": {
        "id": "nr4jLuLvT5Bd"
      },
      "source": [
        "Have a play with the more advanced ideas of `modulo` and `floor division` by answering the following questions:"
      ]
    },
    {
      "cell_type": "code",
      "metadata": {
        "id": "RZW2GTXpUGCh"
      },
      "source": [
        "#Is 2372 divisible by 8?\n"
      ],
      "execution_count": null,
      "outputs": []
    },
    {
      "cell_type": "markdown",
      "metadata": {
        "id": "v6lx9LEUUy04"
      },
      "source": [
        "You should have a remainder indicating that 2372 is not divisible by 8 (sorry for the spoiler!). Now take the remainder from 2372 and try again. This time the remainder should be 0. \n"
      ]
    },
    {
      "cell_type": "markdown",
      "metadata": {
        "id": "QNP6zcxPVigc"
      },
      "source": [
        "Now try `floor division` on the following, such that 38 and 4 becomes `38//4`"
      ]
    },
    {
      "cell_type": "code",
      "metadata": {
        "id": "ZscrZQAfUVJK"
      },
      "source": [
        "#20 and 3\n"
      ],
      "execution_count": null,
      "outputs": []
    },
    {
      "cell_type": "code",
      "metadata": {
        "id": "ZFpY_LSTUuPM"
      },
      "source": [
        "#12465 and 234\n"
      ],
      "execution_count": null,
      "outputs": []
    },
    {
      "cell_type": "code",
      "metadata": {
        "id": "pywJkYlWV0oI"
      },
      "source": [
        "#57346 and 1263\n"
      ],
      "execution_count": null,
      "outputs": []
    },
    {
      "cell_type": "markdown",
      "metadata": {
        "id": "WMMo6SuaYRiy"
      },
      "source": [
        "Remember, floor division tells you how many times one number goes into another but doesn't give any kind of remainder. 4//3 = 1 because 3 goes into 4 once."
      ]
    },
    {
      "cell_type": "markdown",
      "metadata": {
        "id": "Alb6Y7VVWDrQ"
      },
      "source": [
        "These concepts are pretty straightforward but the applications for these will soon become immensely useful. What you'll find with Python is that the syntax (language) and concepts are relatively easy, but the challenge (and the interesting parts!) comes with trying to use these concepts in a logical manner to solve problems. \n",
        "An example question might be something like - `The sum of all prime numbers under 10 is 17. What is the sum of all prime numbers under 1,000?`\n",
        "Currently you lack the knowledge to solve this programmatically but you could start to think about this and other complex problems. \n",
        "\n",
        "We'll be back soon with another tutorial, but in the meantime have a play with what we've shown you and if you feel like looking at `strings` ahead of the next email, you could do worse than look at [this](https://realpython.com/python-strings/) tutorial, thanks.\n"
      ]
    }
  ]
}