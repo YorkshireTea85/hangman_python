{
  "nbformat": 4,
  "nbformat_minor": 0,
  "metadata": {
    "colab": {
      "name": "Python-Wk2.ipynb",
      "provenance": [],
      "collapsed_sections": [],
      "include_colab_link": true
    },
    "kernelspec": {
      "name": "python3",
      "display_name": "Python 3"
    },
    "language_info": {
      "name": "python"
    }
  },
  "cells": [
    {
      "cell_type": "markdown",
      "metadata": {
        "id": "view-in-github",
        "colab_type": "text"
      },
      "source": [
        "<a href=\"https://colab.research.google.com/github/YorkshireTea85/hangman_python/blob/master/Python_Wk2.ipynb\" target=\"_parent\"><img src=\"https://colab.research.google.com/assets/colab-badge.svg\" alt=\"Open In Colab\"/></a>"
      ]
    },
    {
      "cell_type": "markdown",
      "metadata": {
        "id": "9esqgsta-qfk"
      },
      "source": [
        "**Wyton's Wonderfully Witty Python Wranglers Coding Club**\n",
        "(name subject to change)"
      ]
    },
    {
      "cell_type": "markdown",
      "metadata": {
        "id": "XM4tMIU1up2-"
      },
      "source": [
        "# **Strings in Python**\n",
        "\n",
        "Hi, today I'm going to talk to you about strings in Python. Srings are any characters surrounded by single or double quotation marks - `\"I am a string!\"`\n",
        "\n",
        "Why are they called strings? I hear you say. I'm afraid we haven't got time to go into that but you can read about it [here](https://) or simply Google it. Come on people, I can't do everything for you!\n",
        "\n",
        "A string is usually text, and is used to print messages to the screen."
      ]
    },
    {
      "cell_type": "code",
      "metadata": {
        "colab": {
          "base_uri": "https://localhost:8080/"
        },
        "id": "o3oCbFZZv2bp",
        "outputId": "f29db300-6fd1-48cc-ae10-93963464b2d3"
      },
      "source": [
        "print(\"Hello World!\")"
      ],
      "execution_count": null,
      "outputs": [
        {
          "output_type": "stream",
          "text": [
            "Hello World!\n"
          ],
          "name": "stdout"
        }
      ]
    },
    {
      "cell_type": "markdown",
      "metadata": {
        "id": "cvTM16BXv7lq"
      },
      "source": [
        "Now, here is a new thing! A keyword, `print`. This is a built-in Python method which simply displays or prints the contents of the brackets to the screen. We'll cover methods \n",
        "in a later tutorial so for now just accept it.\n",
        "\n",
        "In the last tutorial we looked at variables, `a = 5` for example which stores the value 5 in the variable a. We can do the same with strings."
      ]
    },
    {
      "cell_type": "code",
      "metadata": {
        "colab": {
          "base_uri": "https://localhost:8080/"
        },
        "id": "uzEido0Gv5el",
        "outputId": "503006e7-1e20-40e8-bfba-60cb37e947ef"
      },
      "source": [
        "a = \"Hi there\"\n",
        "print(a)"
      ],
      "execution_count": null,
      "outputs": [
        {
          "output_type": "stream",
          "text": [
            "Hi there\n"
          ],
          "name": "stdout"
        }
      ]
    },
    {
      "cell_type": "markdown",
      "metadata": {
        "id": "UJzn7gyOyEXW"
      },
      "source": [
        "I know this is a bit simple at the moment, but alter the above code to print out \"Hi there Adam\" (you can use your name if you'd prefer)."
      ]
    },
    {
      "cell_type": "markdown",
      "metadata": {
        "id": "fzjnvPjEyaCi"
      },
      "source": [
        "## **Slicing Strings**\n",
        "\n",
        "We are now going to look at how to \"slice strings\", and yes, just as it sounds, we're going to cut 'em up!\n",
        "\n",
        "Consider the code below:"
      ]
    },
    {
      "cell_type": "code",
      "metadata": {
        "colab": {
          "base_uri": "https://localhost:8080/"
        },
        "id": "MgkiGcc5x9pB",
        "outputId": "04662562-0e03-4a17-ff20-b7624249df69"
      },
      "source": [
        "greeting = \"Hello everyone, welcome to Python\"\n",
        "print(greeting[0:14])"
      ],
      "execution_count": null,
      "outputs": [
        {
          "output_type": "stream",
          "text": [
            "Hello everyone\n"
          ],
          "name": "stdout"
        }
      ]
    },
    {
      "cell_type": "markdown",
      "metadata": {
        "id": "mgq0PS8ezJ9m"
      },
      "source": [
        "Here you can see the `print` method but also some square brackets. Inside these brackets I have specified the start and end index of the string. \n",
        "\n",
        "## ***IMPORTANT!!!***\n",
        "Python is a zero based index language; that is, when we start counting things in Python we start with zero instead of one. If you alter the above code to [1:14] you'll see that it misses out the first letter. Go on. I dare you. Told you so! As if that wasn't confusing enough, the end index is non-inclusive, meaning that I have actually printed out characters 0 - 13, or 1 - 14 for humans. Have a play and it'll sink in, honestly.\n",
        "\n",
        "Let's do a quick exercise to verify understanding. Print the first word of the following snippets. (Type the print statement below the snippet)"
      ]
    },
    {
      "cell_type": "code",
      "metadata": {
        "colab": {
          "base_uri": "https://localhost:8080/"
        },
        "id": "z3Kdy4aZy9Xz",
        "outputId": "634bc2be-0b2b-4dfd-f08d-b04ee9570c26"
      },
      "source": [
        "greeting = \"Hi coders\"\n",
        "print(greeting[0:2])"
      ],
      "execution_count": null,
      "outputs": [
        {
          "output_type": "stream",
          "text": [
            "Hi\n"
          ],
          "name": "stdout"
        }
      ]
    },
    {
      "cell_type": "code",
      "metadata": {
        "id": "Hh1Wwkse1IFS"
      },
      "source": [
        "question = \"What are you up to?\""
      ],
      "execution_count": null,
      "outputs": []
    },
    {
      "cell_type": "code",
      "metadata": {
        "id": "3KWhZUsG046I"
      },
      "source": [
        "farewell = \"Bye coders\""
      ],
      "execution_count": null,
      "outputs": []
    },
    {
      "cell_type": "markdown",
      "metadata": {
        "id": "rJNXLzI-1OQ-"
      },
      "source": [
        "Now try changing the first number to something other than 1 zero, like so:"
      ]
    },
    {
      "cell_type": "code",
      "metadata": {
        "colab": {
          "base_uri": "https://localhost:8080/"
        },
        "id": "fY9vZ6IY1WfP",
        "outputId": "8cc46865-5c0c-4e64-b140-17ac9ed65dc6"
      },
      "source": [
        "var_1 = \"Wow, variable names are hard to think of!\"\n",
        "print(var_1[5:13])"
      ],
      "execution_count": null,
      "outputs": [
        {
          "output_type": "stream",
          "text": [
            "variable\n"
          ],
          "name": "stdout"
        }
      ]
    },
    {
      "cell_type": "markdown",
      "metadata": {
        "id": "OhGo29Ic1xPn"
      },
      "source": [
        "Print the word Python from the following strings."
      ]
    },
    {
      "cell_type": "code",
      "metadata": {
        "id": "BLutZg1G1vgX"
      },
      "source": [
        "string_1 = \"A python can grow up to 300ft long!\""
      ],
      "execution_count": null,
      "outputs": []
    },
    {
      "cell_type": "code",
      "metadata": {
        "id": "-Df3jZK42Nja"
      },
      "source": [
        "string_2 = \"Technically a python can grow up to 1,000,000ft long.\""
      ],
      "execution_count": null,
      "outputs": []
    },
    {
      "cell_type": "code",
      "metadata": {
        "id": "uk-_eMUv2T9v"
      },
      "source": [
        "string_3 = \"Because 1ft is up to 1,000,000ft. Python.\""
      ],
      "execution_count": null,
      "outputs": []
    },
    {
      "cell_type": "markdown",
      "metadata": {
        "id": "YE_vHiKT2iQR"
      },
      "source": [
        "There's also a cool short hand where you can leave off the first number if you'd like your slice to start at the beginning, or the second number if you'd like it to finish at the end. Like so."
      ]
    },
    {
      "cell_type": "code",
      "metadata": {
        "colab": {
          "base_uri": "https://localhost:8080/"
        },
        "id": "HT-I2qRg2e-T",
        "outputId": "d0020847-2ec9-4463-e9ec-be203b1348ff"
      },
      "source": [
        "string_3\n",
        "print(string_3[34:])"
      ],
      "execution_count": null,
      "outputs": [
        {
          "output_type": "stream",
          "text": [
            "Python.\n"
          ],
          "name": "stdout"
        }
      ]
    },
    {
      "cell_type": "markdown",
      "metadata": {
        "id": "Kxt_8R_s2_tA"
      },
      "source": [
        "You do still need the colon though.\n",
        "\n",
        "Actually, you can use negative indexing to make things like that last example a bit easier. The minus sign simply means you count right to left rather than left ot right. Observe."
      ]
    },
    {
      "cell_type": "code",
      "metadata": {
        "colab": {
          "base_uri": "https://localhost:8080/"
        },
        "id": "z46xyMKm20vD",
        "outputId": "ac7ee880-104a-4a41-b3ba-823b348ad438"
      },
      "source": [
        "print(string_3[-7: -1])"
      ],
      "execution_count": null,
      "outputs": [
        {
          "output_type": "stream",
          "text": [
            "Python\n"
          ],
          "name": "stdout"
        }
      ]
    },
    {
      "cell_type": "markdown",
      "metadata": {
        "id": "HgzfXs6h3gHs"
      },
      "source": [
        "Pretty cool! Repeat the 3 examples back up there but this time use negative indexing.\n",
        "\n",
        "The final slicy thing we'll look at is a third parameter after the start and end, called step. This allows us to skip letters."
      ]
    },
    {
      "cell_type": "code",
      "metadata": {
        "colab": {
          "base_uri": "https://localhost:8080/"
        },
        "id": "gii_F0VB3X-S",
        "outputId": "8a3cb922-229e-42be-8055-5275f7453d07"
      },
      "source": [
        "step_string = \"You can also miss out the first two parameters as long as you keep the colons.\"\n",
        "print(step_string[::3])"
      ],
      "execution_count": null,
      "outputs": [
        {
          "output_type": "stream",
          "text": [
            "Y nl so eitwpatsso  ue eon\n"
          ],
          "name": "stdout"
        }
      ]
    },
    {
      "cell_type": "markdown",
      "metadata": {
        "id": "t4xO2oQR4uhr"
      },
      "source": [
        "Hey, I didn't say it would be useful! (It will be one day, honestly.)"
      ]
    },
    {
      "cell_type": "markdown",
      "metadata": {
        "id": "JjQGFNSp5a8X"
      },
      "source": [
        "Now, there are loads of things you can do to strings and you can see a complete list [here](https://) on w3schools. Have a look at it and then convert the following string so it matches the examples below. I've done the first one for you. "
      ]
    },
    {
      "cell_type": "code",
      "metadata": {
        "id": "NvImUDfd6S9Q"
      },
      "source": [
        "sentance = \"These are some words!\""
      ],
      "execution_count": null,
      "outputs": []
    },
    {
      "cell_type": "code",
      "metadata": {
        "colab": {
          "base_uri": "https://localhost:8080/"
        },
        "id": "Hes--qTt5ODP",
        "outputId": "927df15a-61ba-431a-e8ea-46aee0ca3d41"
      },
      "source": [
        "#these are some\n",
        "print(sentance.lower()[:14])"
      ],
      "execution_count": null,
      "outputs": [
        {
          "output_type": "stream",
          "text": [
            "these are some\n"
          ],
          "name": "stdout"
        }
      ]
    },
    {
      "cell_type": "markdown",
      "metadata": {
        "id": "_ridlXfH7dh7"
      },
      "source": [
        "Cheeky! I used slicing as well. See how that works? Honestly, Python is really cool. Now do the following."
      ]
    },
    {
      "cell_type": "code",
      "metadata": {
        "id": "wwxOqv_J6bfP"
      },
      "source": [
        "#ARE SOME WORDS!"
      ],
      "execution_count": null,
      "outputs": []
    },
    {
      "cell_type": "code",
      "metadata": {
        "id": "5UKu1_Td6j1O"
      },
      "source": [
        "#These Are Some Wor"
      ],
      "execution_count": null,
      "outputs": []
    },
    {
      "cell_type": "code",
      "metadata": {
        "id": "IgzqMrLb65Wf"
      },
      "source": [
        "#tHESE ARE"
      ],
      "execution_count": null,
      "outputs": []
    },
    {
      "cell_type": "markdown",
      "metadata": {
        "id": "HhkVw_EH8Nze"
      },
      "source": [
        "The final thing we'll look at are Python's excellent f string method. Traditionally if I wanted to print out something like:\n",
        "\n",
        "`My name is Adam and I am 39 years old`\n",
        "\n",
        "using a number variable for my age, I would have to do this:"
      ]
    },
    {
      "cell_type": "code",
      "metadata": {
        "colab": {
          "base_uri": "https://localhost:8080/"
        },
        "id": "9yOr4izl8nbV",
        "outputId": "5addc2be-c8fa-43a0-a064-9c1485f23b89"
      },
      "source": [
        "age = 39\n",
        "print(\"My name is Adam and I am \" + str(age) + \" years old\")"
      ],
      "execution_count": null,
      "outputs": [
        {
          "output_type": "stream",
          "text": [
            "My name is Adam and I am 39 years old\n"
          ],
          "name": "stdout"
        }
      ]
    },
    {
      "cell_type": "markdown",
      "metadata": {
        "id": "SbvnAdR580Ov"
      },
      "source": [
        "This is pretty clunky and also forces me to change the age from a number (called integers remember?) to a string before inserting it using plus signs. It's not great. F strings are up to 1,000,000 times better. Rather than try and explain I'll just show you."
      ]
    },
    {
      "cell_type": "code",
      "metadata": {
        "colab": {
          "base_uri": "https://localhost:8080/"
        },
        "id": "lXeZC9lj8ue4",
        "outputId": "563c9916-b338-48d1-d1c2-543e00e3f3c7"
      },
      "source": [
        "print(f\"My name is Adam and I am {age} years old\")"
      ],
      "execution_count": null,
      "outputs": [
        {
          "output_type": "stream",
          "text": [
            "My name is Adam and I am 39 years old\n"
          ],
          "name": "stdout"
        }
      ]
    },
    {
      "cell_type": "markdown",
      "metadata": {
        "id": "VHksf1o_9VhI"
      },
      "source": [
        "So. Much. Better!\n",
        "\n",
        "Ok, that's enough for now. We'll finish with an f string challenge. Within the curly braces you see above, you can put calculations (and other stuff which we'll go into one day, I'm sure). So, I want you to take 2 numbers, assign them to the variables a and b and then print out the following sentance:\n",
        "\n",
        "\"The sum of 4 and 3 is 7.\""
      ]
    },
    {
      "cell_type": "code",
      "metadata": {
        "id": "YP-DDX4Z9UBu"
      },
      "source": [
        ""
      ],
      "execution_count": null,
      "outputs": []
    },
    {
      "cell_type": "markdown",
      "metadata": {
        "id": "VKkt0Yhi-Trp"
      },
      "source": [
        "And that's it! I hope you enjoyed this. Please feed back to us, telling us what we can do to improve, what you liked, what you didn't etc, thanks, the WWWPWCC team."
      ]
    }
  ]
}